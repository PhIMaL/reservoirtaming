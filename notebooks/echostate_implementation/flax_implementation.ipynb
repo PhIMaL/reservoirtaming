{
 "cells": [
  {
   "cell_type": "code",
   "execution_count": 13,
   "id": "recreational-hawaiian",
   "metadata": {},
   "outputs": [
    {
     "name": "stdout",
     "output_type": "stream",
     "text": [
      "The autoreload extension is already loaded. To reload it, use:\n",
      "  %reload_ext autoreload\n"
     ]
    }
   ],
   "source": [
    "from reservoirtaming.models.generic import GenericEchoState\n",
    "from reservoirtaming.layers.reservoirs import RandomReservoir\n",
    "from reservoirtaming.layers.activation import leaky_erf\n",
    "\n",
    "from reservoirtaming.training.training import train\n",
    "from reservoirtaming.data.KS import KS\n",
    "from jax import random\n",
    "\n",
    "\n",
    "from jax.scipy.linalg import cho_factor, cho_solve\n",
    "from jax.lax import scan\n",
    "import jax.numpy as jnp\n",
    "import numpy as np\n",
    "import matplotlib.pyplot as plt\n",
    "import seaborn as sns\n",
    "from flax.core import unfreeze\n",
    "sns.set()\n",
    "\n",
    "%load_ext autoreload\n",
    "%autoreload 2"
   ]
  },
  {
   "cell_type": "code",
   "execution_count": 2,
   "id": "neural-aquatic",
   "metadata": {},
   "outputs": [],
   "source": [
    "# Setting up our dataset; similar to jonathans\n",
    "L = 22 / (2 * np.pi)  # length\n",
    "N = 100  # space discretization step\n",
    "dt = 0.25  # time discretization step\n",
    "N_train = 10000\n",
    "N_test = 2000\n",
    "N_init = 1000  # remove the initial points\n",
    "tend = (N_train + N_test) * dt + N_init\n",
    "\n",
    "np.random.seed(1)\n",
    "dns = KS(L=L, N=N, dt=dt, tend=tend)\n",
    "dns.simulate()"
   ]
  },
  {
   "cell_type": "code",
   "execution_count": 3,
   "id": "spiritual-traveler",
   "metadata": {},
   "outputs": [],
   "source": [
    "# Prepping train and test matrices\n",
    "# why the sqrt scaling?\n",
    "_, u_train, u_test, _ = np.split(dns.uu / np.sqrt(N), \n",
    "                                     [N_init, \n",
    "                                     (N_init + N_train), \n",
    "                                     (N_init + N_train + N_test)], axis=0)\n",
    "\n",
    "n_input = u_train.shape[1]"
   ]
  },
  {
   "cell_type": "code",
   "execution_count": 4,
   "id": "saving-discharge",
   "metadata": {},
   "outputs": [],
   "source": [
    "model = GenericEchoState(RandomReservoir, leaky_erf, n_reservoir=3996, reservoir_args=(0.4, 0.9, 0.1), act_fn_args=(1.0, ))\n",
    "key = random.PRNGKey(42)"
   ]
  },
  {
   "cell_type": "code",
   "execution_count": 5,
   "id": "portable-fossil",
   "metadata": {},
   "outputs": [],
   "source": [
    "variables = model.init(key, u_train[0])\n",
    "state, params = variables.pop('params')\n",
    "del variables"
   ]
  },
  {
   "cell_type": "code",
   "execution_count": 6,
   "id": "independent-solomon",
   "metadata": {},
   "outputs": [
    {
     "name": "stdout",
     "output_type": "stream",
     "text": [
      "CPU times: user 1.87 s, sys: 65.5 ms, total: 1.93 s\n",
      "Wall time: 1.95 s\n"
     ]
    }
   ],
   "source": [
    "%%time\n",
    "state, reservoir_states = train(model, state, params, u_train)"
   ]
  },
  {
   "cell_type": "code",
   "execution_count": 9,
   "id": "technological-administrator",
   "metadata": {},
   "outputs": [
    {
     "name": "stdout",
     "output_type": "stream",
     "text": [
      "CPU times: user 0 ns, sys: 19.2 ms, total: 19.2 ms\n",
      "Wall time: 20.6 ms\n"
     ]
    }
   ],
   "source": [
    "%%time\n",
    "X = jnp.concatenate([reservoir_states[:-1], u_train[:-1]], axis=1)\n",
    "y = u_train[1:]"
   ]
  },
  {
   "cell_type": "code",
   "execution_count": 8,
   "id": "ideal-tissue",
   "metadata": {},
   "outputs": [
    {
     "data": {
      "text/plain": [
       "(9999, 4096)"
      ]
     },
     "execution_count": 8,
     "metadata": {},
     "output_type": "execute_result"
    }
   ],
   "source": [
    "X.shape"
   ]
  },
  {
   "cell_type": "code",
   "execution_count": 11,
   "id": "average-nomination",
   "metadata": {},
   "outputs": [],
   "source": [
    "alpha = 1e-2"
   ]
  },
  {
   "cell_type": "code",
   "execution_count": 16,
   "id": "hungarian-craft",
   "metadata": {},
   "outputs": [
    {
     "name": "stdout",
     "output_type": "stream",
     "text": [
      "CPU times: user 2.55 ms, sys: 0 ns, total: 2.55 ms\n",
      "Wall time: 2.19 ms\n"
     ]
    }
   ],
   "source": [
    "%%time\n",
    "c, low = cho_factor(jnp.dot(X.T, X) + alpha * jnp.eye(X.shape[1]))"
   ]
  },
  {
   "cell_type": "code",
   "execution_count": 21,
   "id": "dedicated-faith",
   "metadata": {},
   "outputs": [
    {
     "name": "stdout",
     "output_type": "stream",
     "text": [
      "CPU times: user 4.97 ms, sys: 139 µs, total: 5.11 ms\n",
      "Wall time: 3.97 ms\n"
     ]
    }
   ],
   "source": [
    "%%time\n",
    "X = jnp.concatenate([reservoir_states[:-1], u_train[:-1]], axis=1)\n",
    "y = u_train[1:]\n",
    "\n",
    "c, low = cho_factor(jnp.dot(X.T, X) + alpha * jnp.eye(X.shape[1]))\n",
    "W_out = cho_solve((c, low), jnp.dot(X.T, y))"
   ]
  },
  {
   "cell_type": "code",
   "execution_count": null,
   "id": "blessed-characteristic",
   "metadata": {},
   "outputs": [],
   "source": [
    "def "
   ]
  },
  {
   "cell_type": "code",
   "execution_count": null,
   "id": "smoking-scoop",
   "metadata": {},
   "outputs": [],
   "source": [
    "%%time\n",
    "\n",
    "\n",
    "X = output[:-1]\n",
    "y = u_train[1:]\n",
    "\n",
    "# we use cholesky decomp to solve the problem; fast, efficient and stable\n",
    "# This seems much slower than what jonathan reports in the paper; we'll have to compare implementations\n",
    "# It is *much* faster the second time we run it though; maybe an issue with jit?\n",
    "c, low = cho_factor(jnp.dot(X.T, X) + alpha * jnp.eye(X.shape[1]))\n",
    "W_out = cho_solve((c, low), jnp.dot(X.T, y))"
   ]
  }
 ],
 "metadata": {
  "kernelspec": {
   "display_name": "Python 3",
   "language": "python",
   "name": "python3"
  },
  "language_info": {
   "codemirror_mode": {
    "name": "ipython",
    "version": 3
   },
   "file_extension": ".py",
   "mimetype": "text/x-python",
   "name": "python",
   "nbconvert_exporter": "python",
   "pygments_lexer": "ipython3",
   "version": "3.8.3"
  }
 },
 "nbformat": 4,
 "nbformat_minor": 5
}
