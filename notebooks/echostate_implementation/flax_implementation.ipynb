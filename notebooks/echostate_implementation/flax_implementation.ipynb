{
 "cells": [
  {
   "cell_type": "code",
   "execution_count": 1,
   "id": "modified-limitation",
   "metadata": {},
   "outputs": [],
   "source": [
    "from reservoirtaming.models.generic import GenericEchoState\n",
    "from reservoirtaming.layers.reservoirs import RandomReservoir\n",
    "from reservoirtaming.layers.activation import leaky_erf\n",
    "\n",
    "from reservoirtaming.training.training import train\n",
    "from reservoirtaming.data.KS import KS\n",
    "from jax import random\n",
    "from jax.lax import scan\n",
    "import jax.numpy as jnp\n",
    "import numpy as np\n",
    "import matplotlib.pyplot as plt\n",
    "import seaborn as sns\n",
    "from flax.core import unfreeze\n",
    "sns.set()\n",
    "\n",
    "%load_ext autoreload\n",
    "%autoreload 2"
   ]
  },
  {
   "cell_type": "code",
   "execution_count": 2,
   "id": "vietnamese-blind",
   "metadata": {},
   "outputs": [],
   "source": [
    "# Setting up our dataset; similar to jonathans\n",
    "L = 22 / (2 * np.pi)  # length\n",
    "N = 100  # space discretization step\n",
    "dt = 0.25  # time discretization step\n",
    "N_train = 10000\n",
    "N_test = 2000\n",
    "N_init = 1000  # remove the initial points\n",
    "tend = (N_train + N_test) * dt + N_init\n",
    "\n",
    "np.random.seed(1)\n",
    "dns = KS(L=L, N=N, dt=dt, tend=tend)\n",
    "dns.simulate()"
   ]
  },
  {
   "cell_type": "code",
   "execution_count": 3,
   "id": "going-filter",
   "metadata": {},
   "outputs": [],
   "source": [
    "# Prepping train and test matrices\n",
    "# why the sqrt scaling?\n",
    "_, u_train, u_test, _ = np.split(dns.uu / np.sqrt(N), \n",
    "                                     [N_init, \n",
    "                                     (N_init + N_train), \n",
    "                                     (N_init + N_train + N_test)], axis=0)\n",
    "\n",
    "n_input = u_train.shape[1]"
   ]
  },
  {
   "cell_type": "code",
   "execution_count": 4,
   "id": "spread-nirvana",
   "metadata": {},
   "outputs": [],
   "source": [
    "model = GenericEchoState(RandomReservoir, leaky_erf, n_reservoir=3996, reservoir_args=(0.4, 0.9, 0.1), act_fn_args=(1.0, ))\n",
    "key = random.PRNGKey(42)"
   ]
  },
  {
   "cell_type": "code",
   "execution_count": 5,
   "id": "connected-fabric",
   "metadata": {},
   "outputs": [],
   "source": [
    "variables = model.init(key, u_train[0])\n",
    "state, params = variables.pop('params')\n",
    "del variables"
   ]
  },
  {
   "cell_type": "code",
   "execution_count": 7,
   "id": "conscious-translation",
   "metadata": {},
   "outputs": [
    {
     "name": "stdout",
     "output_type": "stream",
     "text": [
      "CPU times: user 1.87 s, sys: 164 µs, total: 1.87 s\n",
      "Wall time: 1.82 s\n"
     ]
    }
   ],
   "source": [
    "%%time\n",
    "state, reservoir_states = train(model, state, params, u_train)"
   ]
  },
  {
   "cell_type": "code",
   "execution_count": null,
   "id": "prescription-iraqi",
   "metadata": {},
   "outputs": [],
   "source": []
  }
 ],
 "metadata": {
  "kernelspec": {
   "display_name": "Python 3",
   "language": "python",
   "name": "python3"
  },
  "language_info": {
   "codemirror_mode": {
    "name": "ipython",
    "version": 3
   },
   "file_extension": ".py",
   "mimetype": "text/x-python",
   "name": "python",
   "nbconvert_exporter": "python",
   "pygments_lexer": "ipython3",
   "version": "3.8.3"
  }
 },
 "nbformat": 4,
 "nbformat_minor": 5
}
