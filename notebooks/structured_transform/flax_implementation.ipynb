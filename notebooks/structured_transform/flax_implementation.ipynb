{
 "cells": [
  {
   "cell_type": "markdown",
   "id": "handed-calendar",
   "metadata": {},
   "source": [
    "I found some better examples on how to do recurrent models with flax; let's try and recreate that"
   ]
  },
  {
   "cell_type": "code",
   "execution_count": 1,
   "id": "revolutionary-invention",
   "metadata": {},
   "outputs": [],
   "source": [
    "from reservoirtaming.layers.reservoirs import StructuredTransform\n",
    "from reservoirtaming.models.generic import GenericEchoState\n",
    "from reservoirtaming.layers.output import Residual\n",
    "from reservoirtaming.training.training import ridge\n",
    "\n",
    "\n",
    "from reservoirtaming.data.KS import KS\n",
    "from jax import random\n",
    "from functools import partial\n",
    "import numpy as np\n",
    "\n",
    "import jax.numpy as jnp\n",
    "from jax.scipy.linalg import cho_factor, cho_solve\n",
    "from flax.core import unfreeze, freeze\n",
    "import matplotlib.pyplot as plt\n",
    "%load_ext autoreload\n",
    "%autoreload 2"
   ]
  },
  {
   "cell_type": "code",
   "execution_count": 2,
   "id": "lesser-webcam",
   "metadata": {},
   "outputs": [],
   "source": [
    "# Setting up our dataset; similar to jonathans\n",
    "L = 22 / (2 * np.pi)  # length\n",
    "N = 100  # space discretization step\n",
    "dt = 0.25  # time discretization step\n",
    "N_train = 10000\n",
    "N_test = 2000\n",
    "N_init = 1000  # remove the initial points\n",
    "tend = (N_train + N_test) * dt + N_init\n",
    "\n",
    "np.random.seed(1)\n",
    "dns = KS(L=L, N=N, dt=dt, tend=tend)\n",
    "dns.simulate()"
   ]
  },
  {
   "cell_type": "code",
   "execution_count": 3,
   "id": "magnetic-shock",
   "metadata": {},
   "outputs": [],
   "source": [
    "# Prepping train and test matrices\n",
    "u = np.expand_dims(dns.uu, axis=1)\n",
    "_, u_train, u_test, _ = np.split(u / np.sqrt(N), \n",
    "                                     [N_init, \n",
    "                                     (N_init + N_train), \n",
    "                                     (N_init + N_train + N_test)], axis=0)"
   ]
  },
  {
   "cell_type": "code",
   "execution_count": 11,
   "id": "sticky-certificate",
   "metadata": {},
   "outputs": [],
   "source": [
    "# Setting up model\n",
    "n_reservoir = 3900\n",
    "n_out = u_train.shape[-1]\n",
    "\n",
    "norm_factor = 1.1 * jnp.sqrt(n_out / n_reservoir)\n",
    "model = GenericEchoState(n_reservoir, StructuredTransform, (n_out, ),\n",
    "                  n_out, Residual, (norm_factor, ))\n",
    "\n",
    "\n",
    "key = random.PRNGKey(42)\n",
    "state = model.initialize_state(key, n_reservoir)\n",
    "params = model.init(key, state, u_train[0])"
   ]
  },
  {
   "cell_type": "code",
   "execution_count": 12,
   "id": "passing-projector",
   "metadata": {},
   "outputs": [
    {
     "name": "stdout",
     "output_type": "stream",
     "text": [
      "CPU times: user 4.89 s, sys: 41.5 ms, total: 4.93 s\n",
      "Wall time: 4.94 s\n"
     ]
    }
   ],
   "source": [
    "%%time\n",
    "# Running the reservoir\n",
    "new_state, intermediate_states = model.apply(params, state, u_train, method=model.run_reservoir)"
   ]
  },
  {
   "cell_type": "code",
   "execution_count": 13,
   "id": "immediate-gibson",
   "metadata": {},
   "outputs": [
    {
     "name": "stdout",
     "output_type": "stream",
     "text": [
      "CPU times: user 263 ms, sys: 45.2 ms, total: 308 ms\n",
      "Wall time: 258 ms\n"
     ]
    }
   ],
   "source": [
    "%%time\n",
    "# Predicting with random output layer\n",
    "n_predict_steps = 100\n",
    "new_state, prediction = model.apply(params, state, u_train[0], n_predict_steps)"
   ]
  },
  {
   "cell_type": "code",
   "execution_count": 14,
   "id": "unlimited-optics",
   "metadata": {},
   "outputs": [
    {
     "name": "stdout",
     "output_type": "stream",
     "text": [
      "CPU times: user 5.87 s, sys: 180 ms, total: 6.05 s\n",
      "Wall time: 6.49 s\n"
     ]
    }
   ],
   "source": [
    "%%time\n",
    "# Training; we simply update the output layer weight param \n",
    "end_of_train_state, params = ridge(model, params, state, u_train, renorm_factor=norm_factor, alpha=1e-2)"
   ]
  },
  {
   "cell_type": "code",
   "execution_count": 15,
   "id": "corrected-allen",
   "metadata": {},
   "outputs": [
    {
     "name": "stdout",
     "output_type": "stream",
     "text": [
      "CPU times: user 1.22 s, sys: 1.34 ms, total: 1.22 s\n",
      "Wall time: 1.14 s\n"
     ]
    }
   ],
   "source": [
    "%%time\n",
    "# Extrapolate\n",
    "n_predict_steps = 2000\n",
    "end_of_predict_state, prediction = model.apply(params, end_of_train_state, u_train[-1], n_predict_steps)"
   ]
  },
  {
   "cell_type": "code",
   "execution_count": 16,
   "id": "integral-stream",
   "metadata": {},
   "outputs": [],
   "source": [
    "truth  = u_test.squeeze()\n",
    "prediction = prediction.squeeze()"
   ]
  },
  {
   "cell_type": "code",
   "execution_count": 18,
   "id": "common-industry",
   "metadata": {},
   "outputs": [
    {
     "data": {
      "text/plain": [
       "[<matplotlib.lines.Line2D at 0x7f3db42d04c0>]"
      ]
     },
     "execution_count": 18,
     "metadata": {},
     "output_type": "execute_result"
    },
    {
     "data": {
      "image/png": "[encoded data removed]",
      "text/plain": [
       "<Figure size 432x288 with 1 Axes>"
      ]
     },
     "metadata": {
      "needs_background": "light"
     },
     "output_type": "display_data"
    }
   ],
   "source": [
    "frame = 50\n",
    "plt.plot(truth[frame])\n",
    "plt.plot(prediction[frame])"
   ]
  },
  {
   "cell_type": "code",
   "execution_count": null,
   "id": "deluxe-spine",
   "metadata": {},
   "outputs": [],
   "source": []
  }
 ],
 "metadata": {
  "kernelspec": {
   "display_name": "Python 3",
   "language": "python",
   "name": "python3"
  },
  "language_info": {
   "codemirror_mode": {
    "name": "ipython",
    "version": 3
   },
   "file_extension": ".py",
   "mimetype": "text/x-python",
   "name": "python",
   "nbconvert_exporter": "python",
   "pygments_lexer": "ipython3",
   "version": "3.8.3"
  }
 },
 "nbformat": 4,
 "nbformat_minor": 5
}
