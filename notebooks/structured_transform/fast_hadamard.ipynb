{
 "cells": [
  {
   "cell_type": "markdown",
   "id": "right-vitamin",
   "metadata": {},
   "source": [
    "Let's implement the fast walsh hadamrd transform in jax."
   ]
  },
  {
   "cell_type": "code",
   "execution_count": 11,
   "id": "detailed-banner",
   "metadata": {},
   "outputs": [],
   "source": [
    "import jax.numpy as jnp\n",
    "from jax import random\n",
    "from reservoirtaming.layers.utils import HadamardTransform, hadamard\n",
    "import jax\n",
    "from jax.ops import index_update\n",
    "import numpy as np\n",
    "from functools import reduce"
   ]
  },
  {
   "cell_type": "code",
   "execution_count": 2,
   "id": "empty-bedroom",
   "metadata": {},
   "outputs": [
    {
     "name": "stdout",
     "output_type": "stream",
     "text": [
      "4096\n"
     ]
    }
   ],
   "source": [
    "# Making test data\n",
    "n = 2 ** 12\n",
    "print(n)\n",
    "key = random.PRNGKey(42)\n",
    "X = random.normal(key, (1, n))"
   ]
  },
  {
   "cell_type": "code",
   "execution_count": 3,
   "id": "meaning-alfred",
   "metadata": {},
   "outputs": [],
   "source": [
    "H = hadamard(normalized=False)(key, (n, ))"
   ]
  },
  {
   "cell_type": "code",
   "execution_count": 4,
   "id": "massive-limit",
   "metadata": {},
   "outputs": [],
   "source": [
    "forward_baseline = jax.jit(lambda X: jnp.dot(X, H))"
   ]
  },
  {
   "cell_type": "code",
   "execution_count": 5,
   "id": "fresh-alfred",
   "metadata": {},
   "outputs": [
    {
     "data": {
      "text/plain": [
       "DeviceArray([[-56.67905 , -47.176163, -45.646194, ...,  49.567734,\n",
       "              -37.2996  , 133.21384 ]], dtype=float32)"
      ]
     },
     "execution_count": 5,
     "metadata": {},
     "output_type": "execute_result"
    }
   ],
   "source": [
    "# Triggeri jit\n",
    "forward_baseline(X)"
   ]
  },
  {
   "cell_type": "code",
   "execution_count": 6,
   "id": "noticed-monday",
   "metadata": {},
   "outputs": [
    {
     "name": "stdout",
     "output_type": "stream",
     "text": [
      "168 µs ± 1.07 µs per loop (mean ± std. dev. of 7 runs, 10000 loops each)\n"
     ]
    }
   ],
   "source": [
    "%%timeit\n",
    "forward_baseline(X).block_until_ready()"
   ]
  },
  {
   "cell_type": "code",
   "execution_count": 7,
   "id": "focused-excitement",
   "metadata": {},
   "outputs": [],
   "source": [
    "X_baseline = forward_baseline(X)"
   ]
  },
  {
   "cell_type": "code",
   "execution_count": 8,
   "id": "super-chile",
   "metadata": {},
   "outputs": [
    {
     "data": {
      "text/plain": [
       "Buffer([[-56.67905 , -47.176163, -45.646194, ...,  49.567734, -37.2996  ,\n",
       "         133.21384 ]], dtype=float32)"
      ]
     },
     "execution_count": 8,
     "metadata": {},
     "output_type": "execute_result"
    }
   ],
   "source": [
    "X_baseline"
   ]
  },
  {
   "cell_type": "markdown",
   "id": "premium-defense",
   "metadata": {},
   "source": [
    "# V1: simple for loops "
   ]
  },
  {
   "cell_type": "code",
   "execution_count": 44,
   "id": "moderate-amendment",
   "metadata": {},
   "outputs": [],
   "source": [
    "def fasthadamardtransform(X):\n",
    "    h = 1\n",
    "    n = X.shape[-1]\n",
    "    while h < n:\n",
    "        for i in jnp.arange(n, step=h * 2):\n",
    "            for j in jnp.arange(i, i + h):\n",
    "                x = X[j]\n",
    "                y = X[j + h]\n",
    "                X = index_update(X, j, x + y)\n",
    "                X = index_update(X, j + h, x - y)\n",
    "        h *= 2\n",
    "    return X"
   ]
  },
  {
   "cell_type": "code",
   "execution_count": 45,
   "id": "immediate-showcase",
   "metadata": {},
   "outputs": [],
   "source": [
    "X_work = X.copy().squeeze()"
   ]
  },
  {
   "cell_type": "code",
   "execution_count": 46,
   "id": "technological-component",
   "metadata": {},
   "outputs": [
    {
     "name": "stdout",
     "output_type": "stream",
     "text": [
      "CPU times: user 48 s, sys: 8.8 s, total: 56.8 s\n",
      "Wall time: 37 s\n"
     ]
    }
   ],
   "source": [
    "%%time\n",
    "X_new = fasthadamardtransform(X_work)"
   ]
  },
  {
   "cell_type": "code",
   "execution_count": 47,
   "id": "oriental-lover",
   "metadata": {},
   "outputs": [
    {
     "data": {
      "text/plain": [
       "DeviceArray(False, dtype=bool)"
      ]
     },
     "execution_count": 47,
     "metadata": {},
     "output_type": "execute_result"
    }
   ],
   "source": [
    "jnp.allclose(X_new, X_baseline)"
   ]
  },
  {
   "cell_type": "code",
   "execution_count": 48,
   "id": "romance-skating",
   "metadata": {},
   "outputs": [
    {
     "data": {
      "text/plain": [
       "DeviceArray(2.2888184e-05, dtype=float32)"
      ]
     },
     "execution_count": 48,
     "metadata": {},
     "output_type": "execute_result"
    }
   ],
   "source": [
    "jnp.max(jnp.abs(X_new - X_baseline))"
   ]
  },
  {
   "cell_type": "markdown",
   "id": "dressed-waters",
   "metadata": {},
   "source": [
    "# V2; vmapping update"
   ]
  },
  {
   "cell_type": "code",
   "execution_count": 49,
   "id": "subject-handling",
   "metadata": {},
   "outputs": [],
   "source": [
    "@jax.jit\n",
    "def single_update(X, h, i, j):\n",
    "    x = X[j]\n",
    "    y = X[j + h]\n",
    "    X = index_update(X, j, x + y)\n",
    "    X = index_update(X, j + h, x - y)\n",
    "    return X"
   ]
  },
  {
   "cell_type": "code",
   "execution_count": 50,
   "id": "charged-executive",
   "metadata": {},
   "outputs": [],
   "source": [
    "def fasthadamardtransform(X):\n",
    "    h = 1\n",
    "    n = X.shape[-1]\n",
    "    while h < n:\n",
    "        for i in jnp.arange(n, step=h * 2):\n",
    "            for j in jnp.arange(i, i + h):\n",
    "                X = single_update(X, h, i ,j)\n",
    "        h *= 2\n",
    "    return X"
   ]
  },
  {
   "cell_type": "code",
   "execution_count": 51,
   "id": "federal-constitution",
   "metadata": {},
   "outputs": [],
   "source": [
    "X_work = X.copy().squeeze()"
   ]
  },
  {
   "cell_type": "code",
   "execution_count": 52,
   "id": "august-respect",
   "metadata": {},
   "outputs": [],
   "source": [
    "X_new = fasthadamardtransform(X_work)"
   ]
  },
  {
   "cell_type": "code",
   "execution_count": 53,
   "id": "unlikely-defense",
   "metadata": {},
   "outputs": [
    {
     "name": "stdout",
     "output_type": "stream",
     "text": [
      "CPU times: user 2.38 s, sys: 681 ms, total: 3.06 s\n",
      "Wall time: 1.29 s\n"
     ]
    }
   ],
   "source": [
    "%%time\n",
    "X_new = fasthadamardtransform(X_work)"
   ]
  },
  {
   "cell_type": "code",
   "execution_count": 54,
   "id": "focused-giant",
   "metadata": {},
   "outputs": [
    {
     "data": {
      "text/plain": [
       "DeviceArray(2.2888184e-05, dtype=float32)"
      ]
     },
     "execution_count": 54,
     "metadata": {},
     "output_type": "execute_result"
    }
   ],
   "source": [
    "jnp.max(jnp.abs(X_new - X_baseline))"
   ]
  },
  {
   "cell_type": "markdown",
   "id": "legendary-hypothesis",
   "metadata": {},
   "source": [
    "# V3; for i loops"
   ]
  },
  {
   "cell_type": "code",
   "execution_count": 55,
   "id": "absent-reputation",
   "metadata": {},
   "outputs": [],
   "source": [
    "@jax.jit\n",
    "def single_update(X, h, i, j):\n",
    "    x = X[j]\n",
    "    y = X[j + h]\n",
    "    X = index_update(X, j, x + y)\n",
    "    X = index_update(X, j + h, x - y)\n",
    "    return X"
   ]
  },
  {
   "cell_type": "code",
   "execution_count": 56,
   "id": "public-denmark",
   "metadata": {},
   "outputs": [],
   "source": [
    "def fasthadamardtransform(X):\n",
    "    h = 1\n",
    "    n = X.shape[-1]\n",
    "    while h < n:\n",
    "        for i in np.arange(n, step=h * 2):\n",
    "            X = jax.lax.fori_loop(i, i+h, lambda idx, x: single_update(x, h, i, idx), X)\n",
    "        h *= 2\n",
    "    return X"
   ]
  },
  {
   "cell_type": "code",
   "execution_count": 57,
   "id": "turkish-interpretation",
   "metadata": {},
   "outputs": [],
   "source": [
    "X_new = fasthadamardtransform(X_work)"
   ]
  },
  {
   "cell_type": "code",
   "execution_count": null,
   "id": "foster-gender",
   "metadata": {},
   "outputs": [],
   "source": [
    "%%time\n",
    "X_new = fasthadamardtransform(X_work)"
   ]
  },
  {
   "cell_type": "code",
   "execution_count": 23,
   "id": "brutal-stuff",
   "metadata": {},
   "outputs": [
    {
     "data": {
      "text/plain": [
       "DeviceArray(3.8146973e-05, dtype=float32)"
      ]
     },
     "execution_count": 23,
     "metadata": {},
     "output_type": "execute_result"
    }
   ],
   "source": [
    "jnp.max(jnp.abs(X_new - X_baseline))"
   ]
  },
  {
   "cell_type": "code",
   "execution_count": 85,
   "id": "abroad-plymouth",
   "metadata": {},
   "outputs": [
    {
     "data": {
      "text/plain": [
       "DeviceArray([-2.5212405, -2.4014864,  1.2293223, ...,  2.1180675,\n",
       "              1.9316142, -0.5232188], dtype=float32)"
      ]
     },
     "execution_count": 85,
     "metadata": {},
     "output_type": "execute_result"
    }
   ],
   "source": []
  },
  {
   "cell_type": "code",
   "execution_count": 29,
   "id": "increasing-blink",
   "metadata": {},
   "outputs": [],
   "source": [
    "h = 1\n",
    "i = 0\n",
    "X = jax.lax.fori_loop(i, i+h, lambda idx, x: single_update(x, h, i, idx), X)"
   ]
  },
  {
   "cell_type": "code",
   "execution_count": 31,
   "id": "ideal-holly",
   "metadata": {},
   "outputs": [
    {
     "name": "stdout",
     "output_type": "stream",
     "text": [
      "30.8 ms ± 894 µs per loop (mean ± std. dev. of 7 runs, 10 loops each)\n"
     ]
    }
   ],
   "source": [
    "%%timeit\n",
    "h = 1\n",
    "i = 0\n",
    "jax.lax.fori_loop(i, i+h, lambda idx, x: single_update(x, h, i, idx), X)"
   ]
  },
  {
   "cell_type": "markdown",
   "id": "damaged-gasoline",
   "metadata": {},
   "source": [
    "# V4; preclaculting h and doing it the other way"
   ]
  },
  {
   "cell_type": "code",
   "execution_count": 104,
   "id": "psychological-devices",
   "metadata": {},
   "outputs": [],
   "source": [
    "@jax.jit\n",
    "def single_update(X, h, i, j):\n",
    "    x = X[j]\n",
    "    y = X[j + h]\n",
    "    X = index_update(X, j, x + y)\n",
    "    X = index_update(X, j + h, x - y)\n",
    "    return X"
   ]
  },
  {
   "cell_type": "code",
   "execution_count": 105,
   "id": "organizational-police",
   "metadata": {},
   "outputs": [],
   "source": [
    "def fasthadamardtransform(X):\n",
    "    n = X.shape[-1]\n",
    "    for h in h_range:\n",
    "        for i in jnp.arange(n, step=h * 2):\n",
    "            for j in jnp.arange(i, i + h):\n",
    "                X = single_update(X, h, i ,j)\n",
    "    return X"
   ]
  },
  {
   "cell_type": "code",
   "execution_count": 106,
   "id": "tender-sleep",
   "metadata": {},
   "outputs": [],
   "source": [
    "X_work = X.copy().squeeze()"
   ]
  },
  {
   "cell_type": "code",
   "execution_count": 107,
   "id": "ongoing-suite",
   "metadata": {},
   "outputs": [],
   "source": [
    "X_new = fasthadamardtransform(X_work)"
   ]
  },
  {
   "cell_type": "code",
   "execution_count": 108,
   "id": "miniature-beast",
   "metadata": {},
   "outputs": [
    {
     "name": "stdout",
     "output_type": "stream",
     "text": [
      "CPU times: user 1.97 s, sys: 750 ms, total: 2.72 s\n",
      "Wall time: 1.12 s\n"
     ]
    }
   ],
   "source": [
    "%%time\n",
    "X_new = fasthadamardtransform(X_work)"
   ]
  },
  {
   "cell_type": "code",
   "execution_count": 110,
   "id": "spectacular-multimedia",
   "metadata": {},
   "outputs": [
    {
     "data": {
      "text/plain": [
       "DeviceArray(210.97363, dtype=float32)"
      ]
     },
     "execution_count": 110,
     "metadata": {},
     "output_type": "execute_result"
    }
   ],
   "source": [
    "jnp.max(jnp.abs(X_new - X_baseline))"
   ]
  },
  {
   "cell_type": "code",
   "execution_count": 77,
   "id": "incident-reggae",
   "metadata": {},
   "outputs": [
    {
     "name": "stdout",
     "output_type": "stream",
     "text": [
      "1\n",
      "2\n",
      "4\n",
      "8\n",
      "16\n",
      "32\n",
      "64\n",
      "128\n",
      "256\n",
      "512\n",
      "1024\n"
     ]
    }
   ],
   "source": [
    "h = 1\n",
    "n = 2048\n",
    "while h < n:\n",
    "    print(h)\n",
    "    h*=2"
   ]
  },
  {
   "cell_type": "code",
   "execution_count": 85,
   "id": "surprising-change",
   "metadata": {},
   "outputs": [
    {
     "data": {
      "text/plain": [
       "DeviceArray([], dtype=float32)"
      ]
     },
     "execution_count": 85,
     "metadata": {},
     "output_type": "execute_result"
    }
   ],
   "source": [
    "2 ** jnp.arange(jnp.log2(n), 1)"
   ]
  },
  {
   "cell_type": "code",
   "execution_count": 94,
   "id": "powered-diabetes",
   "metadata": {},
   "outputs": [
    {
     "data": {
      "text/plain": [
       "DeviceArray([10.,  9.,  8.,  7.,  6.,  5.,  4.,  3.,  2.,  1.], dtype=float32)"
      ]
     },
     "execution_count": 94,
     "metadata": {},
     "output_type": "execute_result"
    }
   ],
   "source": [
    "jnp.arange(jnp.log2(n)-1, 0, -1)"
   ]
  },
  {
   "cell_type": "code",
   "execution_count": 95,
   "id": "promising-standing",
   "metadata": {},
   "outputs": [
    {
     "data": {
      "text/plain": [
       "1024"
      ]
     },
     "execution_count": 95,
     "metadata": {},
     "output_type": "execute_result"
    }
   ],
   "source": [
    "2 ** 10"
   ]
  },
  {
   "cell_type": "code",
   "execution_count": 112,
   "id": "driven-library",
   "metadata": {},
   "outputs": [
    {
     "data": {
      "text/plain": [
       "(2048,)"
      ]
     },
     "execution_count": 112,
     "metadata": {},
     "output_type": "execute_result"
    }
   ],
   "source": [
    "X.shape"
   ]
  },
  {
   "cell_type": "code",
   "execution_count": 113,
   "id": "dedicated-blackjack",
   "metadata": {},
   "outputs": [],
   "source": [
    "x, y = jnp.split(X, 2)\n",
    "jnp.concatenate([x+y, x-y], axis=-1)"
   ]
  },
  {
   "cell_type": "code",
   "execution_count": 114,
   "id": "complimentary-enterprise",
   "metadata": {},
   "outputs": [
    {
     "data": {
      "text/plain": [
       "(1024,)"
      ]
     },
     "execution_count": 114,
     "metadata": {},
     "output_type": "execute_result"
    }
   ],
   "source": [
    "x.shape"
   ]
  },
  {
   "cell_type": "code",
   "execution_count": 115,
   "id": "portable-concentrate",
   "metadata": {},
   "outputs": [
    {
     "data": {
      "text/plain": [
       "(1024,)"
      ]
     },
     "execution_count": 115,
     "metadata": {},
     "output_type": "execute_result"
    }
   ],
   "source": [
    "y.shape"
   ]
  },
  {
   "cell_type": "code",
   "execution_count": 116,
   "id": "bigger-adams",
   "metadata": {},
   "outputs": [
    {
     "data": {
      "text/plain": [
       "DeviceArray([ 0.25474286,  2.594915  ,  1.4464111 , ..., -2.2168927 ,\n",
       "              1.0952634 ,  1.3360806 ], dtype=float32)"
      ]
     },
     "execution_count": 116,
     "metadata": {},
     "output_type": "execute_result"
    }
   ],
   "source": []
  },
  {
   "cell_type": "markdown",
   "id": "other-reference",
   "metadata": {},
   "source": [
    "# Vmapping i and j"
   ]
  },
  {
   "cell_type": "code",
   "execution_count": null,
   "id": "front-milan",
   "metadata": {},
   "outputs": [],
   "source": [
    "@jax.jit\n",
    "def single_update(X, h, i, j):\n",
    "    x = X[j]\n",
    "    y = X[j + h]\n",
    "    X = index_update(X, j, x + y)\n",
    "    X = index_update(X, j + h, x - y)\n",
    "    return X"
   ]
  },
  {
   "cell_type": "code",
   "execution_count": 10,
   "id": "international-aggregate",
   "metadata": {},
   "outputs": [],
   "source": [
    "X = random.normal(key, (1024, ))"
   ]
  },
  {
   "cell_type": "code",
   "execution_count": 25,
   "id": "green-treaty",
   "metadata": {},
   "outputs": [],
   "source": [
    "h = 1\n",
    "n = X.shape[-1]\n",
    "idx = []\n",
    "while h < n:\n",
    "    for i in jnp.arange(n, step=h * 2):\n",
    "        for j in jnp.arange(i, i + h):\n",
    "            idx.append([j, j+h])\n",
    "    h *= 2"
   ]
  },
  {
   "cell_type": "code",
   "execution_count": null,
   "id": "structural-reason",
   "metadata": {},
   "outputs": [],
   "source": []
  },
  {
   "cell_type": "code",
   "execution_count": 17,
   "id": "corresponding-secretariat",
   "metadata": {},
   "outputs": [
    {
     "data": {
      "text/plain": [
       "32"
      ]
     },
     "execution_count": 17,
     "metadata": {},
     "output_type": "execute_result"
    }
   ],
   "source": []
  },
  {
   "cell_type": "markdown",
   "id": "brazilian-setup",
   "metadata": {},
   "source": [
    "# Cutting in two:"
   ]
  },
  {
   "cell_type": "code",
   "execution_count": 27,
   "id": "sacred-looking",
   "metadata": {},
   "outputs": [
    {
     "data": {
      "text/plain": [
       "DeviceArray([-0.02862089,  1.5240539 , -1.0556508 , ..., -2.4457607 ,\n",
       "             -0.2306908 , -0.1957571 ], dtype=float32)"
      ]
     },
     "execution_count": 27,
     "metadata": {},
     "output_type": "execute_result"
    }
   ],
   "source": [
    "X"
   ]
  },
  {
   "cell_type": "code",
   "execution_count": 29,
   "id": "maritime-ferry",
   "metadata": {},
   "outputs": [],
   "source": [
    "x, y = jnp.split(X, 2)"
   ]
  },
  {
   "cell_type": "code",
   "execution_count": 31,
   "id": "rapid-citizen",
   "metadata": {},
   "outputs": [
    {
     "data": {
      "text/plain": [
       "(1024,)"
      ]
     },
     "execution_count": 31,
     "metadata": {},
     "output_type": "execute_result"
    }
   ],
   "source": [
    ".shape"
   ]
  },
  {
   "cell_type": "code",
   "execution_count": 46,
   "id": "magnetic-house",
   "metadata": {},
   "outputs": [],
   "source": [
    "def hadamard_update(X):\n",
    "    x, y = jnp.split(X, 2)\n",
    "    return jnp.concatenate([x + y, x - y], axis=-1)"
   ]
  },
  {
   "cell_type": "code",
   "execution_count": 35,
   "id": "collectible-leave",
   "metadata": {},
   "outputs": [
    {
     "data": {
      "text/plain": [
       "[DeviceArray([-0.02862089,  1.5240539 , -1.0556508 , ..., -2.4457607 ,\n",
       "              -0.2306908 , -0.1957571 ], dtype=float32)]"
      ]
     },
     "execution_count": 35,
     "metadata": {},
     "output_type": "execute_result"
    }
   ],
   "source": [
    "jnp.split(X, 1)"
   ]
  },
  {
   "cell_type": "code",
   "execution_count": 41,
   "id": "scenic-communications",
   "metadata": {},
   "outputs": [
    {
     "name": "stdout",
     "output_type": "stream",
     "text": [
      "[  1.   2.   4.   8.  16.  32.  64. 128. 256. 512.]\n"
     ]
    }
   ],
   "source": [
    "h_range = 2 ** jnp.arange(jnp.log2(X.shape[-1]))\n",
    "print(h_range)"
   ]
  },
  {
   "cell_type": "code",
   "execution_count": null,
   "id": "honest-massachusetts",
   "metadata": {},
   "outputs": [],
   "source": [
    "for h in h_range:\n",
    "    "
   ]
  },
  {
   "cell_type": "code",
   "execution_count": 44,
   "id": "designed-journalist",
   "metadata": {},
   "outputs": [
    {
     "data": {
      "text/plain": [
       "(2, 512)"
      ]
     },
     "execution_count": 44,
     "metadata": {},
     "output_type": "execute_result"
    }
   ],
   "source": [
    "jnp.stack(jnp.split(X, 2), axis=0).shape"
   ]
  },
  {
   "cell_type": "code",
   "execution_count": 47,
   "id": "ordered-reader",
   "metadata": {},
   "outputs": [
    {
     "data": {
      "text/plain": [
       "DeviceArray([-0.29711854,  0.16825843, -0.32572258, ...,  2.7445283 ,\n",
       "              0.25652558,  0.9220723 ], dtype=float32)"
      ]
     },
     "execution_count": 47,
     "metadata": {},
     "output_type": "execute_result"
    }
   ],
   "source": [
    "hadamard_update(X)"
   ]
  },
  {
   "cell_type": "code",
   "execution_count": 55,
   "id": "disciplinary-maine",
   "metadata": {},
   "outputs": [
    {
     "data": {
      "text/plain": [
       "DeviceArray([[ 0.2505168 ,  1.2786218 , -0.4245987 , ..., -1.5220637 ,\n",
       "               1.5918701 , -0.12556547],\n",
       "             [-0.87318814, -2.6005206 ,  2.8852375 , ...,  2.0790575 ,\n",
       "               1.7609035 ,  0.8252154 ]], dtype=float32)"
      ]
     },
     "execution_count": 55,
     "metadata": {},
     "output_type": "execute_result"
    }
   ],
   "source": [
    "\n"
   ]
  },
  {
   "cell_type": "code",
   "execution_count": null,
   "id": "later-crisis",
   "metadata": {},
   "outputs": [],
   "source": [
    "for h in h_range:\n",
    "    jax.vmap(hadamard_update, in_axes=0)(jnp.stack(jnp.split(X, 2), axis=0))"
   ]
  },
  {
   "cell_type": "markdown",
   "id": "adequate-western",
   "metadata": {},
   "source": [
    "# Actually making it work"
   ]
  },
  {
   "cell_type": "code",
   "execution_count": null,
   "id": "discrete-fifteen",
   "metadata": {},
   "outputs": [],
   "source": [
    "def hadamard_transform_torch(u, normalize=False):\n",
    "    \"\"\"Multiply H_n @ u where H_n is the Hadamard matrix of dimension n x n.\n",
    "    n must be a power of 2.\n",
    "    Parameters:\n",
    "        u: Tensor of shape (..., n)\n",
    "        normalize: if True, divide the result by 2^{m/2} where m = log_2(n).\n",
    "    Returns:\n",
    "        product: Tensor of shape (..., n)\n",
    "    \"\"\"\n",
    "    batch_size, n = u.shape\n",
    "    m = int(np.log2(n))\n",
    "    assert n == 1 << m, 'n must be a power of 2'\n",
    "    x = u[..., np.newaxis]\n",
    "    for d in range(m)[::-1]:\n",
    "        x = torch.cat((x[..., ::2, :] + x[..., 1::2, :], x[..., ::2, :] - x[..., 1::2, :]), dim=-1)\n",
    "    return x.squeeze(-2) / 2**(m / 2) if normalize else x.squeeze(-2)"
   ]
  },
  {
   "cell_type": "code",
   "execution_count": 23,
   "id": "essential-oasis",
   "metadata": {},
   "outputs": [],
   "source": [
    "def hadamard_transform(u):\n",
    "    \"\"\"Multiply H_n @ u where H_n is the Hadamard matrix of dimension n x n.\n",
    "    n must be a power of 2.\n",
    "    Parameters:\n",
    "        u: Tensor of shape (..., n)\n",
    "        normalize: if True, divide the result by 2^{m/2} where m = log_2(n).\n",
    "    Returns:\n",
    "        product: Tensor of shape (..., n)\n",
    "    \"\"\"\n",
    "    batch_size, n = u.shape\n",
    "    m = int(jnp.log2(n))\n",
    "    assert n == 1 << m, 'n must be a power of 2'\n",
    "    x = u[..., jnp.newaxis]\n",
    "    for d in jnp.arange(m)[::-1]:\n",
    "        print(x.shape)\n",
    "        x = jnp.concatenate((x[..., ::2, :] + x[..., 1::2, :], x[..., ::2, :] - x[..., 1::2, :]), axis=-1)\n",
    "    return x.squeeze(-2)"
   ]
  },
  {
   "cell_type": "code",
   "execution_count": 31,
   "id": "engaging-builder",
   "metadata": {},
   "outputs": [
    {
     "name": "stdout",
     "output_type": "stream",
     "text": [
      "(1, 4096, 1)\n",
      "(1, 2048, 2)\n",
      "(1, 1024, 4)\n",
      "(1, 512, 8)\n",
      "(1, 256, 16)\n",
      "(1, 128, 32)\n",
      "(1, 64, 64)\n",
      "(1, 32, 128)\n",
      "(1, 16, 256)\n",
      "(1, 8, 512)\n",
      "(1, 4, 1024)\n",
      "(1, 2, 2048)\n",
      "CPU times: user 43.9 ms, sys: 28.1 ms, total: 72 ms\n",
      "Wall time: 56.4 ms\n"
     ]
    }
   ],
   "source": [
    "%%time\n",
    "X_new = hadamard_transform(X)"
   ]
  },
  {
   "cell_type": "code",
   "execution_count": 51,
   "id": "considered-conspiracy",
   "metadata": {},
   "outputs": [
    {
     "data": {
      "text/plain": [
       "DeviceArray(3.8146973e-05, dtype=float32)"
      ]
     },
     "execution_count": 51,
     "metadata": {},
     "output_type": "execute_result"
    }
   ],
   "source": [
    "jnp.max(jnp.abs(X_new - X_baseline))"
   ]
  },
  {
   "cell_type": "code",
   "execution_count": 54,
   "id": "prepared-gazette",
   "metadata": {},
   "outputs": [],
   "source": [
    "m_max = jnp.log2(X.shape[-1])\n",
    "m_range = (2 ** jnp.arange(m_max)).astype(int)\n",
    "z = X"
   ]
  },
  {
   "cell_type": "code",
   "execution_count": 55,
   "id": "sought-gallery",
   "metadata": {},
   "outputs": [],
   "source": [
    "for m in m_range:\n",
    "    z = z.reshape(1, -1, m)\n",
    "    z = jnp.concatenate((z[:, ::2, :] + z[:, 1::2, :], z[:, ::2, :] - z[:, 1::2, :]), axis=-1)\n",
    "    z = z.reshape(1, -1)"
   ]
  },
  {
   "cell_type": "code",
   "execution_count": 56,
   "id": "environmental-mount",
   "metadata": {},
   "outputs": [
    {
     "data": {
      "text/plain": [
       "DeviceArray([[-56.67905 , -47.176163, -45.6462  , ...,  49.56773 ,\n",
       "              -37.299606, 133.21384 ]], dtype=float32)"
      ]
     },
     "execution_count": 56,
     "metadata": {},
     "output_type": "execute_result"
    }
   ],
   "source": [
    "z "
   ]
  },
  {
   "cell_type": "code",
   "execution_count": 58,
   "id": "organic-collins",
   "metadata": {},
   "outputs": [
    {
     "data": {
      "text/plain": [
       "DeviceArray(3.8146973e-05, dtype=float32)"
      ]
     },
     "execution_count": 58,
     "metadata": {},
     "output_type": "execute_result"
    }
   ],
   "source": [
    "jnp.max(jnp.abs(z - X_baseline))"
   ]
  },
  {
   "cell_type": "code",
   "execution_count": 171,
   "id": "unlikely-tours",
   "metadata": {},
   "outputs": [],
   "source": [
    "def hadamard_update(X, m):\n",
    "    power = np.power(2, m).astype(int)\n",
    "    X = X.reshape(1, -1, power)\n",
    "    X = jnp.concatenate((X[:, ::2, :] + X[:, 1::2, :], X[:, ::2, :] - X[:, 1::2, :]), axis=-1)\n",
    "    return X.reshape(1, -1)"
   ]
  },
  {
   "cell_type": "code",
   "execution_count": 143,
   "id": "overhead-sessions",
   "metadata": {},
   "outputs": [],
   "source": [
    "@jax.jit\n",
    "def hadamard_transform(X):\n",
    "    m_max = np.log2(X.shape[-1])\n",
    "    for m in np.arange(m_max):\n",
    "        X = hadamard_update(X, m)\n",
    "    return X"
   ]
  },
  {
   "cell_type": "code",
   "execution_count": 144,
   "id": "dying-question",
   "metadata": {},
   "outputs": [
    {
     "name": "stdout",
     "output_type": "stream",
     "text": [
      "57.5 µs ± 70.5 ns per loop (mean ± std. dev. of 7 runs, 10000 loops each)\n"
     ]
    }
   ],
   "source": [
    "%%timeit\n",
    "hadamard_transform(X)"
   ]
  },
  {
   "cell_type": "markdown",
   "id": "referenced-flooring",
   "metadata": {},
   "source": [
    "Okay not bad... Can we jit it?"
   ]
  },
  {
   "cell_type": "code",
   "execution_count": 187,
   "id": "honey-destruction",
   "metadata": {},
   "outputs": [],
   "source": [
    "update = jax.jit(hadamard_update, static_argnums=(1, ))"
   ]
  },
  {
   "cell_type": "code",
   "execution_count": 188,
   "id": "banned-antarctica",
   "metadata": {},
   "outputs": [
    {
     "data": {
      "text/plain": [
       "DeviceArray([[-0.5576862 , -3.1554017 , -0.22818078, ..., -2.748053  ,\n",
       "              -1.6223387 ,  0.9490731 ]], dtype=float32)"
      ]
     },
     "execution_count": 188,
     "metadata": {},
     "output_type": "execute_result"
    }
   ],
   "source": [
    "# triggering compilation\n",
    "update(X, 3)"
   ]
  },
  {
   "cell_type": "code",
   "execution_count": 189,
   "id": "facial-violin",
   "metadata": {},
   "outputs": [
    {
     "name": "stdout",
     "output_type": "stream",
     "text": [
      "31.3 µs ± 133 ns per loop (mean ± std. dev. of 7 runs, 10000 loops each)\n"
     ]
    }
   ],
   "source": [
    "%%timeit\n",
    "update(X, 3)"
   ]
  },
  {
   "cell_type": "code",
   "execution_count": 102,
   "id": "basic-consideration",
   "metadata": {},
   "outputs": [],
   "source": [
    "m_max = jnp.log2(X.shape[-1])"
   ]
  },
  {
   "cell_type": "code",
   "execution_count": null,
   "id": "dominican-armstrong",
   "metadata": {},
   "outputs": [],
   "source": [
    "jax.lax.fori_loop(0, int(m_max), lambda m, X: hadamard_update(X, m), X)"
   ]
  },
  {
   "cell_type": "code",
   "execution_count": 72,
   "id": "ceramic-conflict",
   "metadata": {},
   "outputs": [
    {
     "data": {
      "text/plain": [
       "DeviceArray([   1,    2,    4,    8,   16,   32,   64,  128,  256,  512,\n",
       "             1024, 2048], dtype=int32)"
      ]
     },
     "execution_count": 72,
     "metadata": {},
     "output_type": "execute_result"
    }
   ],
   "source": [
    "m_range"
   ]
  },
  {
   "cell_type": "code",
   "execution_count": 117,
   "id": "civil-feature",
   "metadata": {},
   "outputs": [],
   "source": [
    "from functools import reduce"
   ]
  },
  {
   "cell_type": "code",
   "execution_count": 190,
   "id": "divine-introduction",
   "metadata": {},
   "outputs": [
    {
     "data": {
      "text/plain": [
       "DeviceArray([[-56.67905 , -47.176163, -45.6462  , ...,  49.56773 ,\n",
       "              -37.299606, 133.21384 ]], dtype=float32)"
      ]
     },
     "execution_count": 190,
     "metadata": {},
     "output_type": "execute_result"
    }
   ],
   "source": [
    "# once to run all jit updates\n",
    "reduce(lambda X, idx: update(X, idx), np.arange(m_max), X)"
   ]
  },
  {
   "cell_type": "code",
   "execution_count": 191,
   "id": "industrial-representation",
   "metadata": {},
   "outputs": [
    {
     "name": "stdout",
     "output_type": "stream",
     "text": [
      "1 ms ± 2.77 µs per loop (mean ± std. dev. of 7 runs, 1000 loops each)\n"
     ]
    }
   ],
   "source": [
    "%%timeit\n",
    "reduce(lambda X, idx: update(X, idx), np.arange(m_max), X)"
   ]
  },
  {
   "cell_type": "code",
   "execution_count": 124,
   "id": "downtown-ready",
   "metadata": {},
   "outputs": [],
   "source": [
    "z = jnp.expand_dims(X, -1)"
   ]
  },
  {
   "cell_type": "code",
   "execution_count": 127,
   "id": "fifth-imperial",
   "metadata": {},
   "outputs": [],
   "source": [
    "f = lambda z, _: jnp.concatenate((z[:, ::2, :] + z[:, 1::2, :], z[:, ::2, :] - z[:, 1::2, :]), axis=-1)"
   ]
  },
  {
   "cell_type": "code",
   "execution_count": 148,
   "id": "north-chemistry",
   "metadata": {},
   "outputs": [
    {
     "name": "stdout",
     "output_type": "stream",
     "text": [
      "CPU times: user 52.5 ms, sys: 600 µs, total: 53.1 ms\n",
      "Wall time: 39.1 ms\n"
     ]
    },
    {
     "data": {
      "text/plain": [
       "DeviceArray([[[-56.67905 , -47.176163, -45.6462  , ...,  49.56773 ,\n",
       "               -37.299606, 133.21384 ]]], dtype=float32)"
      ]
     },
     "execution_count": 148,
     "metadata": {},
     "output_type": "execute_result"
    }
   ],
   "source": [
    "%%time\n",
    "reduce(f, np.arange(m_max), z)"
   ]
  },
  {
   "cell_type": "code",
   "execution_count": 192,
   "id": "prospective-victorian",
   "metadata": {},
   "outputs": [],
   "source": [
    "@jax.jit\n",
    "def hadamard_transform(X):\n",
    "    m_max = np.log2(X.shape[-1])\n",
    "    z = jnp.expand_dims(X, -1)\n",
    "    f = lambda z, _: jnp.concatenate((z[:, ::2, :] + z[:, 1::2, :], z[:, ::2, :] - z[:, 1::2, :]), axis=-1)\n",
    "    z = reduce(f, np.arange(m_max), z)\n",
    "    return z.squeeze()"
   ]
  },
  {
   "cell_type": "code",
   "execution_count": 193,
   "id": "plastic-cuisine",
   "metadata": {},
   "outputs": [
    {
     "data": {
      "text/plain": [
       "DeviceArray([-56.67905 , -47.176163, -45.6462  , ...,  49.56773 ,\n",
       "             -37.299606, 133.21384 ], dtype=float32)"
      ]
     },
     "execution_count": 193,
     "metadata": {},
     "output_type": "execute_result"
    }
   ],
   "source": [
    "# triggering jit\n",
    "hadamard_transform(X)"
   ]
  },
  {
   "cell_type": "code",
   "execution_count": 194,
   "id": "numerical-booth",
   "metadata": {},
   "outputs": [
    {
     "name": "stdout",
     "output_type": "stream",
     "text": [
      "58.8 µs ± 94.5 ns per loop (mean ± std. dev. of 7 runs, 10000 loops each)\n"
     ]
    }
   ],
   "source": [
    "%%timeit\n",
    "hadamard_transform(X).block_until_ready()"
   ]
  },
  {
   "cell_type": "code",
   "execution_count": 195,
   "id": "collected-catering",
   "metadata": {},
   "outputs": [],
   "source": [
    "from functools import partial"
   ]
  },
  {
   "cell_type": "code",
   "execution_count": 196,
   "id": "binary-refund",
   "metadata": {},
   "outputs": [],
   "source": [
    "@jax.jit\n",
    "def hadamard_transform(X):\n",
    "    @partial(jax.jit, static_argnums=(1, ))\n",
    "    def hadamard_update(X, m):\n",
    "        power = np.power(2, m).astype(int)\n",
    "        X = X.reshape(1, -1, power)\n",
    "        X = jnp.concatenate((X[:, ::2, :] + X[:, 1::2, :], X[:, ::2, :] - X[:, 1::2, :]), axis=-1)\n",
    "        return X.reshape(1, -1)\n",
    "    \n",
    "    m_max = np.log2(X.shape[-1])\n",
    "    X = reduce(lambda X, idx: hadamard_update(X, idx), np.arange(m_max), X)\n",
    "    return X"
   ]
  },
  {
   "cell_type": "code",
   "execution_count": 197,
   "id": "caring-story",
   "metadata": {},
   "outputs": [
    {
     "data": {
      "text/plain": [
       "DeviceArray([[-56.67905 , -47.176163, -45.6462  , ...,  49.56773 ,\n",
       "              -37.299606, 133.21384 ]], dtype=float32)"
      ]
     },
     "execution_count": 197,
     "metadata": {},
     "output_type": "execute_result"
    }
   ],
   "source": [
    "# triggering jit\n",
    "hadamard_transform(X)"
   ]
  },
  {
   "cell_type": "code",
   "execution_count": 198,
   "id": "blank-teacher",
   "metadata": {},
   "outputs": [
    {
     "name": "stdout",
     "output_type": "stream",
     "text": [
      "57.8 µs ± 51.7 ns per loop (mean ± std. dev. of 7 runs, 10000 loops each)\n"
     ]
    }
   ],
   "source": [
    "%%timeit\n",
    "hadamard_transform(X)"
   ]
  },
  {
   "cell_type": "markdown",
   "id": "infrared-village",
   "metadata": {},
   "source": [
    "# tweaking super fast solution"
   ]
  },
  {
   "cell_type": "code",
   "execution_count": 82,
   "id": "joined-shower",
   "metadata": {},
   "outputs": [],
   "source": [
    "from functools import partial"
   ]
  },
  {
   "cell_type": "code",
   "execution_count": 58,
   "id": "canadian-pasta",
   "metadata": {},
   "outputs": [],
   "source": [
    "@jax.jit\n",
    "def hadamard_transform(X):\n",
    "    m_max = np.log2(X.shape[-1])\n",
    "    z = jnp.expand_dims(X, -1)\n",
    "    f = lambda z, _: jnp.concatenate((z[:, ::2, :] + z[:, 1::2, :], z[:, ::2, :] - z[:, 1::2, :]), axis=-1)\n",
    "    z = reduce(f, np.arange(m_max), z)\n",
    "    return z.squeeze(-2)"
   ]
  },
  {
   "cell_type": "code",
   "execution_count": 87,
   "id": "august-retention",
   "metadata": {},
   "outputs": [],
   "source": [
    "# triggering jit\n",
    "X_transformed = hadamard_transform(X)"
   ]
  },
  {
   "cell_type": "code",
   "execution_count": 66,
   "id": "chief-wesley",
   "metadata": {},
   "outputs": [
    {
     "data": {
      "text/plain": [
       "DeviceArray(True, dtype=bool)"
      ]
     },
     "execution_count": 66,
     "metadata": {},
     "output_type": "execute_result"
    }
   ],
   "source": [
    "jnp.allclose(X_transformed, X_baseline, atol=1e-4)"
   ]
  },
  {
   "cell_type": "code",
   "execution_count": 67,
   "id": "previous-soldier",
   "metadata": {},
   "outputs": [
    {
     "name": "stdout",
     "output_type": "stream",
     "text": [
      "59.4 µs ± 867 ns per loop (mean ± std. dev. of 7 runs, 10000 loops each)\n"
     ]
    }
   ],
   "source": [
    "%%timeit\n",
    "hadamard_transform(X).block_until_ready()"
   ]
  },
  {
   "cell_type": "code",
   "execution_count": 88,
   "id": "infinite-paradise",
   "metadata": {},
   "outputs": [],
   "source": [
    "@jax.jit\n",
    "def hadamard_transform(X):\n",
    "    @partial(jax.jit, static_argnums=(1, ))\n",
    "    def update(z, m):\n",
    "        x = z[:, ::2, :]\n",
    "        y = z[:, 1::2, :]\n",
    "        return jnp.concatenate((x+y, x-y), axis=-1)\n",
    "\n",
    "    m_max = np.log2(X.shape[-1])\n",
    "    z = jnp.expand_dims(X, -1)\n",
    "    z = reduce(update, np.arange(m_max), z)\n",
    "    return z.squeeze(-2)"
   ]
  },
  {
   "cell_type": "code",
   "execution_count": 89,
   "id": "listed-mauritius",
   "metadata": {},
   "outputs": [],
   "source": [
    "# triggering jit\n",
    "X_transformed = hadamard_transform(X)"
   ]
  },
  {
   "cell_type": "code",
   "execution_count": 90,
   "id": "clinical-shoulder",
   "metadata": {},
   "outputs": [
    {
     "name": "stdout",
     "output_type": "stream",
     "text": [
      "58.7 µs ± 157 ns per loop (mean ± std. dev. of 7 runs, 10000 loops each)\n"
     ]
    }
   ],
   "source": [
    "%%timeit\n",
    "hadamard_transform(X).block_until_ready()"
   ]
  },
  {
   "cell_type": "code",
   "execution_count": null,
   "id": "macro-legend",
   "metadata": {},
   "outputs": [],
   "source": [
    "jnp.allclose(X_transformed, X_baseline, atol=1e-4)"
   ]
  },
  {
   "cell_type": "markdown",
   "id": "extreme-primary",
   "metadata": {},
   "source": [
    "If python is row major, its the last axis which is easiest to read "
   ]
  },
  {
   "cell_type": "code",
   "execution_count": 106,
   "id": "indoor-university",
   "metadata": {},
   "outputs": [],
   "source": [
    "@jax.jit\n",
    "def hadamard_transform(X):\n",
    "    def update(z, m):\n",
    "        x = z[:, ::2, :]\n",
    "        y = z[:, 1::2, :]\n",
    "        return jnp.concatenate((x+y, x-y), axis=-1)\n",
    "\n",
    "    m_max = np.log2(X.shape[-1])\n",
    "    z = jnp.expand_dims(X, -1)\n",
    "    z = reduce(update, np.arange(m_max), z)\n",
    "    return z.squeeze(-2)"
   ]
  },
  {
   "cell_type": "code",
   "execution_count": 107,
   "id": "paperback-newspaper",
   "metadata": {},
   "outputs": [],
   "source": [
    "# triggering jit\n",
    "X_transformed = hadamard_transform(X)"
   ]
  },
  {
   "cell_type": "code",
   "execution_count": 101,
   "id": "turned-short",
   "metadata": {},
   "outputs": [
    {
     "name": "stdout",
     "output_type": "stream",
     "text": [
      "55.9 µs ± 98.3 ns per loop (mean ± std. dev. of 7 runs, 10000 loops each)\n"
     ]
    }
   ],
   "source": [
    "%%timeit\n",
    "hadamard_transform(X).block_until_ready()"
   ]
  },
  {
   "cell_type": "code",
   "execution_count": null,
   "id": "republican-guest",
   "metadata": {},
   "outputs": [],
   "source": []
  }
 ],
 "metadata": {
  "kernelspec": {
   "display_name": "Python 3",
   "language": "python",
   "name": "python3"
  },
  "language_info": {
   "codemirror_mode": {
    "name": "ipython",
    "version": 3
   },
   "file_extension": ".py",
   "mimetype": "text/x-python",
   "name": "python",
   "nbconvert_exporter": "python",
   "pygments_lexer": "ipython3",
   "version": "3.8.3"
  }
 },
 "nbformat": 4,
 "nbformat_minor": 5
}
