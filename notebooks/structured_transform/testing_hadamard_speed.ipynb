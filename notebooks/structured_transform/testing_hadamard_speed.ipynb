{
 "cells": [
  {
   "cell_type": "code",
   "execution_count": 17,
   "id": "general-flooring",
   "metadata": {},
   "outputs": [
    {
     "name": "stdout",
     "output_type": "stream",
     "text": [
      "Jax version: 0.2.9, Flax version: 0.3.0\n"
     ]
    }
   ],
   "source": [
    "import numpy as np\n",
    "import jax.numpy as jnp\n",
    "from jax import random\n",
    "from flax import linen as nn\n",
    "from dataclasses import dataclass\n",
    "\n",
    "import flax\n",
    "import jax\n",
    "\n",
    "print(f'Jax version: {jax.__version__}, Flax version: {flax.__version__}')"
   ]
  },
  {
   "cell_type": "code",
   "execution_count": 18,
   "id": "coated-pavilion",
   "metadata": {},
   "outputs": [],
   "source": [
    "def hadamard(normalized=True, dtype=jnp.float32):\n",
    "    \"\"\" We need the numpy to use it as initializer\"\"\"\n",
    "\n",
    "    def init(key, shape, dtype=dtype):\n",
    "        n = shape[0]\n",
    "        # Input validation\n",
    "        if n < 1:\n",
    "            lg2 = 0\n",
    "        else:\n",
    "            lg2 = np.log2(n)\n",
    "        assert 2 ** lg2 == n, \"shape must be a positive integer and a power of 2.\"\n",
    "\n",
    "        # Logic\n",
    "        H = jnp.ones((1,), dtype=dtype)\n",
    "        for i in np.arange(lg2):\n",
    "            H = jnp.vstack([jnp.hstack([H, H]), jnp.hstack([H, -H])])\n",
    "\n",
    "        if normalized:\n",
    "            H = 2 ** (-lg2 / 2) * H\n",
    "        return H\n",
    "\n",
    "    return init"
   ]
  },
  {
   "cell_type": "code",
   "execution_count": 19,
   "id": "general-telescope",
   "metadata": {},
   "outputs": [],
   "source": [
    "class HadamardTransformFlax(nn.Module):\n",
    "    n_hadamard: int\n",
    "\n",
    "    def setup(self):\n",
    "        self.H = hadamard()(None, (self.n_hadamard,))\n",
    "    \n",
    "    def __call__(self, X):\n",
    "        return jnp.dot(X, self.H)"
   ]
  },
  {
   "cell_type": "code",
   "execution_count": 20,
   "id": "empty-circumstances",
   "metadata": {},
   "outputs": [],
   "source": [
    "@dataclass\n",
    "class HadamardTransform():\n",
    "    n_hadamard: int\n",
    "\n",
    "    def __post_init__(self):\n",
    "        self.H = hadamard()(None, (self.n_hadamard,))\n",
    "\n",
    "    def __call__(self, X):\n",
    "        return jnp.dot(X, self.H)"
   ]
  },
  {
   "cell_type": "code",
   "execution_count": 30,
   "id": "charitable-product",
   "metadata": {},
   "outputs": [
    {
     "name": "stdout",
     "output_type": "stream",
     "text": [
      "1024\n"
     ]
    }
   ],
   "source": [
    "# Making test data\n",
    "n = 2 ** 10\n",
    "print(n)\n",
    "key = random.PRNGKey(42)\n",
    "X = random.normal(key, (1, n))"
   ]
  },
  {
   "cell_type": "code",
   "execution_count": 31,
   "id": "driving-advocate",
   "metadata": {},
   "outputs": [],
   "source": [
    "H = hadamard(normalized=True)(key, (n, ))"
   ]
  },
  {
   "cell_type": "code",
   "execution_count": 47,
   "id": "statistical-beast",
   "metadata": {},
   "outputs": [],
   "source": [
    "forward = jax.jit(lambda X: jnp.dot(X, H))"
   ]
  },
  {
   "cell_type": "code",
   "execution_count": 48,
   "id": "further-temple",
   "metadata": {},
   "outputs": [
    {
     "name": "stdout",
     "output_type": "stream",
     "text": [
      "30.8 µs ± 85.7 ns per loop (mean ± std. dev. of 7 runs, 10000 loops each)\n"
     ]
    }
   ],
   "source": [
    "%%timeit\n",
    "X_transformed = forward(X).block_until_ready()"
   ]
  },
  {
   "cell_type": "code",
   "execution_count": 49,
   "id": "consistent-laugh",
   "metadata": {},
   "outputs": [],
   "source": [
    "model = HadamardTransformFlax(n)\n",
    "params = model.init(key, X)"
   ]
  },
  {
   "cell_type": "code",
   "execution_count": 50,
   "id": "compliant-swiss",
   "metadata": {},
   "outputs": [],
   "source": [
    "forward = jax.jit(lambda X: model.apply(params, X))"
   ]
  },
  {
   "cell_type": "code",
   "execution_count": 51,
   "id": "mobile-rally",
   "metadata": {},
   "outputs": [
    {
     "name": "stdout",
     "output_type": "stream",
     "text": [
      "48.8 µs ± 41.2 ns per loop (mean ± std. dev. of 7 runs, 10000 loops each)\n"
     ]
    }
   ],
   "source": [
    "%%timeit\n",
    "X_transformed = forward(X).block_until_ready()"
   ]
  },
  {
   "cell_type": "code",
   "execution_count": 17,
   "id": "extraordinary-foster",
   "metadata": {},
   "outputs": [],
   "source": [
    "model = HadamardTransform(n)"
   ]
  },
  {
   "cell_type": "code",
   "execution_count": 18,
   "id": "hourly-disease",
   "metadata": {},
   "outputs": [
    {
     "name": "stdout",
     "output_type": "stream",
     "text": [
      "242 µs ± 215 ns per loop (mean ± std. dev. of 7 runs, 1000 loops each)\n"
     ]
    }
   ],
   "source": [
    "%%timeit\n",
    "X_transformed = model(X[None, :])"
   ]
  },
  {
   "cell_type": "code",
   "execution_count": null,
   "id": "facial-apparatus",
   "metadata": {},
   "outputs": [],
   "source": [
    "class "
   ]
  }
 ],
 "metadata": {
  "kernelspec": {
   "display_name": "Python 3",
   "language": "python",
   "name": "python3"
  },
  "language_info": {
   "codemirror_mode": {
    "name": "ipython",
    "version": 3
   },
   "file_extension": ".py",
   "mimetype": "text/x-python",
   "name": "python",
   "nbconvert_exporter": "python",
   "pygments_lexer": "ipython3",
   "version": "3.8.3"
  }
 },
 "nbformat": 4,
 "nbformat_minor": 5
}
