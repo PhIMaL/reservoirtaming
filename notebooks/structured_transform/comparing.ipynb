{
 "cells": [
  {
   "cell_type": "code",
   "execution_count": 1,
   "id": "permanent-compression",
   "metadata": {},
   "outputs": [],
   "source": [
    "from reservoirtaming.layers.reservoirs import StructuredTransform, FastStructuredTransform\n",
    "from reservoirtaming.models.generic import GenericEchoState\n",
    "from reservoirtaming.layers.output import Residual\n",
    "from reservoirtaming.training.training import ridge\n",
    "\n",
    "\n",
    "from reservoirtaming.data.KS import KS\n",
    "from jax import random\n",
    "from functools import partial\n",
    "import numpy as np\n",
    "\n",
    "import jax.numpy as jnp\n",
    "from jax.scipy.linalg import cho_factor, cho_solve\n",
    "from flax.core import unfreeze, freeze\n",
    "import matplotlib.pyplot as plt\n",
    "%load_ext autoreload\n",
    "%autoreload 2"
   ]
  },
  {
   "cell_type": "code",
   "execution_count": 2,
   "id": "limited-wound",
   "metadata": {},
   "outputs": [],
   "source": [
    "# Setting up our dataset; similar to jonathans\n",
    "L = 22 / (2 * np.pi)  # length\n",
    "N = 100  # space discretization step\n",
    "dt = 0.25  # time discretization step\n",
    "N_train = 10000\n",
    "N_test = 2000\n",
    "N_init = 1000  # remove the initial points\n",
    "tend = (N_train + N_test) * dt + N_init\n",
    "\n",
    "np.random.seed(1)\n",
    "dns = KS(L=L, N=N, dt=dt, tend=tend)\n",
    "dns.simulate()"
   ]
  },
  {
   "cell_type": "code",
   "execution_count": 3,
   "id": "unauthorized-timer",
   "metadata": {},
   "outputs": [],
   "source": [
    "# Prepping train and test matrices\n",
    "u = np.expand_dims(dns.uu, axis=1)\n",
    "_, u_train, u_test, _ = np.split(u / np.sqrt(N), \n",
    "                                     [N_init, \n",
    "                                     (N_init + N_train), \n",
    "                                     (N_init + N_train + N_test)], axis=0)"
   ]
  },
  {
   "cell_type": "code",
   "execution_count": 4,
   "id": "existing-talent",
   "metadata": {},
   "outputs": [],
   "source": [
    "# Setting up model\n",
    "n_reservoir = 3996\n",
    "n_out = u_train.shape[-1]\n",
    "\n",
    "norm_factor = 1.1 * jnp.sqrt(n_out / n_reservoir)\n",
    "model_fast = GenericEchoState(n_reservoir, FastStructuredTransform, (n_out, ),\n",
    "                  n_out, Residual, (norm_factor, ))\n",
    "\n",
    "model_slow = GenericEchoState(n_reservoir, StructuredTransform, (n_out, ),\n",
    "                  n_out, Residual, (norm_factor, ))\n",
    "\n",
    "key = random.PRNGKey(42)\n",
    "state = model_fast.initialize_state(key, n_reservoir)\n",
    "params = model_fast.init(key, state, u_train[0])"
   ]
  },
  {
   "cell_type": "code",
   "execution_count": 5,
   "id": "imported-motivation",
   "metadata": {},
   "outputs": [
    {
     "name": "stdout",
     "output_type": "stream",
     "text": [
      "CPU times: user 2.41 s, sys: 647 ms, total: 3.05 s\n",
      "Wall time: 1.78 s\n"
     ]
    }
   ],
   "source": [
    "%%time\n",
    "# Running the reservoir\n",
    "new_state, intermediate_states_fast = model_fast.apply(params, state, u_train, method=model_fast.run_reservoir)"
   ]
  },
  {
   "cell_type": "code",
   "execution_count": 6,
   "id": "disturbed-jason",
   "metadata": {},
   "outputs": [
    {
     "name": "stdout",
     "output_type": "stream",
     "text": [
      "CPU times: user 9.98 s, sys: 520 ms, total: 10.5 s\n",
      "Wall time: 11.8 s\n"
     ]
    }
   ],
   "source": [
    "%%time\n",
    "# Running the reservoir\n",
    "new_state, intermediate_states_slow = model_slow.apply(params, state, u_train, method=model_slow.run_reservoir)"
   ]
  },
  {
   "cell_type": "code",
   "execution_count": 7,
   "id": "engaging-wonder",
   "metadata": {},
   "outputs": [
    {
     "data": {
      "text/plain": [
       "DeviceArray(True, dtype=bool)"
      ]
     },
     "execution_count": 7,
     "metadata": {},
     "output_type": "execute_result"
    }
   ],
   "source": [
    "jnp.allclose(intermediate_states_fast, intermediate_states_slow)"
   ]
  },
  {
   "cell_type": "code",
   "execution_count": null,
   "id": "decimal-mason",
   "metadata": {},
   "outputs": [],
   "source": []
  }
 ],
 "metadata": {
  "kernelspec": {
   "display_name": "Python 3",
   "language": "python",
   "name": "python3"
  },
  "language_info": {
   "codemirror_mode": {
    "name": "ipython",
    "version": 3
   },
   "file_extension": ".py",
   "mimetype": "text/x-python",
   "name": "python",
   "nbconvert_exporter": "python",
   "pygments_lexer": "ipython3",
   "version": "3.8.3"
  }
 },
 "nbformat": 4,
 "nbformat_minor": 5
}
