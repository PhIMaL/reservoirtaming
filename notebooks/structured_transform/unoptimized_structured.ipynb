{
 "cells": [
  {
   "cell_type": "markdown",
   "id": "uniform-terminal",
   "metadata": {},
   "source": [
    "In this notebook we implement the unoptimized structured transform; i.e. we build a hadamard and orthonormal matrix function."
   ]
  },
  {
   "cell_type": "code",
   "execution_count": 1,
   "id": "generous-reputation",
   "metadata": {},
   "outputs": [],
   "source": [
    "import jax\n",
    "import jax.numpy as jnp\n",
    "from jax import random"
   ]
  },
  {
   "cell_type": "markdown",
   "id": "interim-secretary",
   "metadata": {},
   "source": [
    "Let's start with a hadamard matrix:"
   ]
  },
  {
   "cell_type": "code",
   "execution_count": 2,
   "id": "spoken-marine",
   "metadata": {},
   "outputs": [],
   "source": [
    "def hadamard(n, normalized=True, dtype=int):\n",
    "    if n < 1:\n",
    "        lg2 = 0\n",
    "    else:\n",
    "        lg2 = jnp.log2(n)\n",
    "    assert 2 ** lg2 == n, \"n must be a positive integer and a power of 2.\"\n",
    "    \n",
    "    H = jnp.ones((1, ), dtype=dtype)\n",
    "    for i in jnp.arange(lg2):\n",
    "        H = jnp.vstack([jnp.hstack([H, H]), jnp.hstack([H, -H])])\n",
    "        \n",
    "    if normalized:\n",
    "        H = 2**(-lg2 / 2) * H\n",
    "        \n",
    "    return H"
   ]
  },
  {
   "cell_type": "code",
   "execution_count": 3,
   "id": "spiritual-authentication",
   "metadata": {},
   "outputs": [
    {
     "data": {
      "text/plain": [
       "DeviceArray([[ 0.7071067,  0.7071067],\n",
       "             [ 0.7071067, -0.7071067]], dtype=float32)"
      ]
     },
     "execution_count": 3,
     "metadata": {},
     "output_type": "execute_result"
    }
   ],
   "source": [
    "hadamard(2)"
   ]
  },
  {
   "cell_type": "code",
   "execution_count": 4,
   "id": "cloudy-thread",
   "metadata": {},
   "outputs": [],
   "source": [
    "def init_structured_transform(key, n):\n",
    "    diagonal_keys = random.split(key, 3)\n",
    "    D1, D2, D3 = [random.rademacher(key, (n, 1)) for key in diagonal_keys]\n",
    "    H = hadamard(n)\n",
    "    return H, D1, D2, D3"
   ]
  },
  {
   "cell_type": "code",
   "execution_count": 5,
   "id": "surprising-lithuania",
   "metadata": {},
   "outputs": [],
   "source": [
    "key = random.PRNGKey(42)\n",
    "n = 4096\n",
    "\n",
    "H, D1, D2, D3 = init_structured_transform(key, n)"
   ]
  },
  {
   "cell_type": "code",
   "execution_count": 6,
   "id": "confident-society",
   "metadata": {},
   "outputs": [],
   "source": [
    "# Making some fake data\n",
    "X = random.normal(key, (n, ))"
   ]
  },
  {
   "cell_type": "code",
   "execution_count": 7,
   "id": "searching-holmes",
   "metadata": {},
   "outputs": [
    {
     "name": "stdout",
     "output_type": "stream",
     "text": [
      "The slowest run took 45.98 times longer than the fastest. This could mean that an intermediate result is being cached.\n",
      "23.3 ms ± 16 ms per loop (mean ± std. dev. of 7 runs, 1 loop each)\n"
     ]
    }
   ],
   "source": [
    "%%timeit\n",
    "z = jnp.dot(H, D3 * X)\n",
    "z = jnp.dot(H, D2 * z)\n",
    "z = jnp.dot(H, D1 * z)"
   ]
  },
  {
   "cell_type": "code",
   "execution_count": 8,
   "id": "written-finland",
   "metadata": {},
   "outputs": [
    {
     "name": "stdout",
     "output_type": "stream",
     "text": [
      "CPU times: user 71 µs, sys: 28 µs, total: 99 µs\n",
      "Wall time: 110 µs\n"
     ]
    }
   ],
   "source": [
    "%%time\n",
    "z = jax.jit(lambda X: jnp.linalg.multi_dot([H, D1 * H , D2 * H, D3 * X]))"
   ]
  },
  {
   "cell_type": "code",
   "execution_count": 9,
   "id": "chubby-graduate",
   "metadata": {},
   "outputs": [
    {
     "name": "stdout",
     "output_type": "stream",
     "text": [
      "CPU times: user 125 ms, sys: 125 ms, total: 250 ms\n",
      "Wall time: 278 ms\n"
     ]
    },
    {
     "data": {
      "text/plain": [
       "DeviceArray([[-0.29267862, -0.64960045, -0.08171995, ...,  0.74812335,\n",
       "               0.68226695, -0.18480723],\n",
       "             [ 0.02463144,  0.05466538,  0.00687742, ..., -0.06295658,\n",
       "              -0.05741588,  0.01555277],\n",
       "             [ 0.72903943,  1.6180907 ,  0.20355886, ..., -1.8635184 ,\n",
       "              -1.6994754 ,  0.46033984],\n",
       "             ...,\n",
       "             [-1.0537311 , -2.338742  , -0.29421806, ...,  2.6934826 ,\n",
       "               2.4563704 , -0.6653619 ],\n",
       "             [ 1.5551366 ,  3.4515965 ,  0.43421656, ..., -3.9751225 ,\n",
       "              -3.625196  ,  0.98196113],\n",
       "             [-0.2790252 , -0.6192892 , -0.07790655, ...,  0.71321386,\n",
       "               0.65043354, -0.17618288]], dtype=float32)"
      ]
     },
     "execution_count": 9,
     "metadata": {},
     "output_type": "execute_result"
    }
   ],
   "source": [
    "%%time\n",
    "z(X).block_until_ready()"
   ]
  },
  {
   "cell_type": "code",
   "execution_count": 10,
   "id": "seeing-chemical",
   "metadata": {},
   "outputs": [
    {
     "name": "stdout",
     "output_type": "stream",
     "text": [
      "37.3 ms ± 88 µs per loop (mean ± std. dev. of 7 runs, 100 loops each)\n"
     ]
    }
   ],
   "source": [
    "%%timeit\n",
    "z(X)"
   ]
  },
  {
   "cell_type": "code",
   "execution_count": 11,
   "id": "endless-southeast",
   "metadata": {},
   "outputs": [],
   "source": [
    "@jax.jit\n",
    "def structured_update(f, H, D1, D2, D3, bias, input_scale, res_scale, leak_rate, reservoir_state, inputs):\n",
    "    X = jnp.concatenate([res_scale * reservoir_state, input_scale * inputs])\n",
    "    z = sqrt(p) / sigma * jnp.linalg.multi_dot([H, D1 * H , D2 * H, D3 * X]) + bias\n",
    "    new_state = (1.0 - leak_rate) * reservoir_state + leak_rate * f(z) / jnp.sqrt(n_reservoir)\n",
    "    \n",
    "    save_state = jnp.concatenate([new_state, renorm_factor * inputs])"
   ]
  },
  {
   "cell_type": "code",
   "execution_count": null,
   "id": "third-walter",
   "metadata": {},
   "outputs": [],
   "source": []
  }
 ],
 "metadata": {
  "kernelspec": {
   "display_name": "Python 3",
   "language": "python",
   "name": "python3"
  },
  "language_info": {
   "codemirror_mode": {
    "name": "ipython",
    "version": 3
   },
   "file_extension": ".py",
   "mimetype": "text/x-python",
   "name": "python",
   "nbconvert_exporter": "python",
   "pygments_lexer": "ipython3",
   "version": "3.8.3"
  }
 },
 "nbformat": 4,
 "nbformat_minor": 5
}
