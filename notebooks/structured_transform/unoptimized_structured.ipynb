{
 "cells": [
  {
   "cell_type": "markdown",
   "id": "incoming-master",
   "metadata": {},
   "source": [
    "In this notebook we implement the unoptimized structured transform; i.e. we build a hadamard and orthonormal matrix function."
   ]
  },
  {
   "cell_type": "code",
   "execution_count": 1,
   "id": "unsigned-recipe",
   "metadata": {},
   "outputs": [],
   "source": [
    "import jax\n",
    "import jax.numpy as jnp\n",
    "from jax import random\n",
    "from flax import linen as nn\n",
    "from reservoirtaming.layers.activation import leaky_erf\n",
    "import numpy as np\n",
    "from typing import Tuple, Callable\n",
    "\n",
    "from flax.core import unfreeze\n",
    "from flax.traverse_util import flatten_dict\n",
    "from flax.linen.initializers import zeros, normal"
   ]
  },
  {
   "cell_type": "code",
   "execution_count": 2,
   "id": "subjective-meter",
   "metadata": {},
   "outputs": [],
   "source": [
    "# fake test data\n",
    "key = random.PRNGKey(42)\n",
    "X = random.normal(key, (1, 4096))"
   ]
  },
  {
   "cell_type": "markdown",
   "id": "excited-remark",
   "metadata": {},
   "source": [
    "# Diagonal matric"
   ]
  },
  {
   "cell_type": "code",
   "execution_count": 3,
   "id": "outer-croatia",
   "metadata": {},
   "outputs": [],
   "source": [
    "class Diagonal(nn.Module):\n",
    "    @nn.compact\n",
    "    def __call__(self, X):\n",
    "        D = self.param('kernel', random.rademacher, (1, X.shape[1]))\n",
    "        return D * X"
   ]
  },
  {
   "cell_type": "code",
   "execution_count": 4,
   "id": "greek-binary",
   "metadata": {},
   "outputs": [],
   "source": [
    "model = Diagonal()\n",
    "key = random.PRNGKey(42)\n",
    "params = model.init(key, X)"
   ]
  },
  {
   "cell_type": "code",
   "execution_count": 5,
   "id": "frank-smith",
   "metadata": {},
   "outputs": [
    {
     "data": {
      "text/plain": [
       "FrozenDict({\n",
       "    params: {\n",
       "        kernel: DeviceArray([[-1,  1, -1, ...,  1, -1,  1]], dtype=int32),\n",
       "    },\n",
       "})"
      ]
     },
     "execution_count": 5,
     "metadata": {},
     "output_type": "execute_result"
    }
   ],
   "source": [
    "params"
   ]
  },
  {
   "cell_type": "code",
   "execution_count": 6,
   "id": "determined-venue",
   "metadata": {},
   "outputs": [
    {
     "data": {
      "text/plain": [
       "DeviceArray([[ 0.82862306, -1.8391167 ,  0.23136322, ...,  2.1180675 ,\n",
       "              -1.9316142 , -0.5232188 ]], dtype=float32)"
      ]
     },
     "execution_count": 6,
     "metadata": {},
     "output_type": "execute_result"
    }
   ],
   "source": [
    "model.apply(params, X)"
   ]
  },
  {
   "cell_type": "markdown",
   "id": "gross-burden",
   "metadata": {},
   "source": [
    "# Hadamard "
   ]
  },
  {
   "cell_type": "markdown",
   "id": "coral-johnson",
   "metadata": {},
   "source": [
    "Let's start with a hadamard initializer"
   ]
  },
  {
   "cell_type": "code",
   "execution_count": 7,
   "id": "mighty-planning",
   "metadata": {},
   "outputs": [],
   "source": [
    "def hadamard(normalized=True, dtype=jnp.float32):\n",
    "    \"\"\" We need the numpy to use it as initializer\"\"\"\n",
    "    def init(key, shape, dtype=dtype):\n",
    "        n = shape[0]\n",
    "        # Input validation\n",
    "        if n < 1:\n",
    "            lg2 = 0\n",
    "        else:\n",
    "            lg2 = np.log2(n)\n",
    "        assert 2 ** lg2 == n, \"shape must be a positive integer and a power of 2.\"\n",
    "    \n",
    "        # Logic\n",
    "        H = jnp.ones((1, ), dtype=dtype)\n",
    "        for i in np.arange(lg2):\n",
    "            H = jnp.vstack([jnp.hstack([H, H]), jnp.hstack([H, -H])])\n",
    "        \n",
    "        if normalized:\n",
    "            H = 2**(-lg2 / 2) * H\n",
    "        return H\n",
    "    return init"
   ]
  },
  {
   "cell_type": "code",
   "execution_count": 8,
   "id": "still-preparation",
   "metadata": {},
   "outputs": [
    {
     "data": {
      "text/plain": [
       "DeviceArray([[ 0.35355338,  0.35355338,  0.35355338,  0.35355338,\n",
       "               0.35355338,  0.35355338,  0.35355338,  0.35355338],\n",
       "             [ 0.35355338, -0.35355338,  0.35355338, -0.35355338,\n",
       "               0.35355338, -0.35355338,  0.35355338, -0.35355338],\n",
       "             [ 0.35355338,  0.35355338, -0.35355338, -0.35355338,\n",
       "               0.35355338,  0.35355338, -0.35355338, -0.35355338],\n",
       "             [ 0.35355338, -0.35355338, -0.35355338,  0.35355338,\n",
       "               0.35355338, -0.35355338, -0.35355338,  0.35355338],\n",
       "             [ 0.35355338,  0.35355338,  0.35355338,  0.35355338,\n",
       "              -0.35355338, -0.35355338, -0.35355338, -0.35355338],\n",
       "             [ 0.35355338, -0.35355338,  0.35355338, -0.35355338,\n",
       "              -0.35355338,  0.35355338, -0.35355338,  0.35355338],\n",
       "             [ 0.35355338,  0.35355338, -0.35355338, -0.35355338,\n",
       "              -0.35355338, -0.35355338,  0.35355338,  0.35355338],\n",
       "             [ 0.35355338, -0.35355338, -0.35355338,  0.35355338,\n",
       "              -0.35355338,  0.35355338,  0.35355338, -0.35355338]],            dtype=float32)"
      ]
     },
     "execution_count": 8,
     "metadata": {},
     "output_type": "execute_result"
    }
   ],
   "source": [
    "key = random.PRNGKey(42)\n",
    "hadamard()(key, (8, ))"
   ]
  },
  {
   "cell_type": "code",
   "execution_count": 9,
   "id": "imported-radar",
   "metadata": {},
   "outputs": [],
   "source": [
    "class HadamardTransform(nn.Module):\n",
    "    n_hadamard: int\n",
    "        \n",
    "    @nn.compact\n",
    "    def __call__(self, X):\n",
    "        z = nn.Dense(self.n_hadamard, kernel_init=hadamard(), use_bias=False)(X)\n",
    "        return z"
   ]
  },
  {
   "cell_type": "code",
   "execution_count": 10,
   "id": "cellular-healthcare",
   "metadata": {},
   "outputs": [],
   "source": [
    "key = random.PRNGKey(42)\n",
    "X = random.normal(key, (1, 4096))"
   ]
  },
  {
   "cell_type": "code",
   "execution_count": 11,
   "id": "valid-surname",
   "metadata": {},
   "outputs": [],
   "source": [
    "model = HadamardTransform(4096)\n",
    "key = random.PRNGKey(42)\n",
    "params = model.init(key, X)"
   ]
  },
  {
   "cell_type": "code",
   "execution_count": 12,
   "id": "threatened-setup",
   "metadata": {},
   "outputs": [
    {
     "name": "stdout",
     "output_type": "stream",
     "text": [
      "FrozenDict({\n",
      "    params: {\n",
      "        Dense_0: {\n",
      "            kernel: DeviceArray([[ 0.015625,  0.015625,  0.015625, ...,  0.015625,  0.015625,\n",
      "                           0.015625],\n",
      "                         [ 0.015625, -0.015625,  0.015625, ..., -0.015625,  0.015625,\n",
      "                          -0.015625],\n",
      "                         [ 0.015625,  0.015625, -0.015625, ...,  0.015625, -0.015625,\n",
      "                          -0.015625],\n",
      "                         ...,\n",
      "                         [ 0.015625, -0.015625,  0.015625, ..., -0.015625,  0.015625,\n",
      "                          -0.015625],\n",
      "                         [ 0.015625,  0.015625, -0.015625, ...,  0.015625, -0.015625,\n",
      "                          -0.015625],\n",
      "                         [ 0.015625, -0.015625, -0.015625, ..., -0.015625, -0.015625,\n",
      "                           0.015625]], dtype=float32),\n",
      "        },\n",
      "    },\n",
      "})\n"
     ]
    }
   ],
   "source": [
    "print(params)"
   ]
  },
  {
   "cell_type": "code",
   "execution_count": 13,
   "id": "stainless-injury",
   "metadata": {},
   "outputs": [
    {
     "data": {
      "text/plain": [
       "DeviceArray([[-0.8856098, -0.7371275, -0.7132219, ...,  0.7744956,\n",
       "              -0.5828059,  2.081466 ]], dtype=float32)"
      ]
     },
     "execution_count": 13,
     "metadata": {},
     "output_type": "execute_result"
    }
   ],
   "source": [
    "model.apply(params, X)"
   ]
  },
  {
   "cell_type": "markdown",
   "id": "essential-center",
   "metadata": {},
   "source": [
    "# Slow structured transform"
   ]
  },
  {
   "cell_type": "code",
   "execution_count": 14,
   "id": "second-baking",
   "metadata": {},
   "outputs": [],
   "source": [
    "class StructuredTransform(nn.Module):\n",
    "    n_reservoir: int\n",
    "    n_input: int\n",
    "    n_layers: int = 3\n",
    "        \n",
    "    input_scale: float = 0.4\n",
    "    res_scale: float = 0.9\n",
    "    bias_scale: float = 0.1\n",
    "        \n",
    "    activation_fn: Callable = leaky_erf\n",
    "    activation_fn_args: Tuple = (1.0, )\n",
    "        \n",
    "    def setup(self):\n",
    "        #Padding\n",
    "        self.n_hadamard = int(2 ** jnp.ceil(jnp.log2(self.n_input + self.n_reservoir))) # finding next power of 2\n",
    "        self.n_padding = int(self.n_hadamard - self.n_reservoir - self.n_input)\n",
    "        self.padding = jnp.zeros((1, self.n_padding)) \n",
    "        \n",
    "        # Layers\n",
    "        self.diagonal_layers= [Diagonal() for _ in jnp.arange(self.n_layers)]\n",
    "        self.hadamard = HadamardTransform(self.n_hadamard)\n",
    "        self.bias = self.param('bias', normal(stddev=self.bias_scale), (self.n_reservoir, ))\n",
    "        \n",
    "    \n",
    "    def __call__(self, state, inputs): \n",
    "        X = jnp.concatenate([self.res_scale * state, self.input_scale * inputs, self.padding], axis=1)\n",
    "        for diagonal in self.diagonal_layers:\n",
    "            X = self.hadamard(diagonal(X))\n",
    "        \n",
    "        # TODO: check if self.n_hadamard is correct; comes from code from paper\n",
    "        z = X[:, :self.n_reservoir] / self.n_hadamard + self.bias\n",
    "        z = self.activation_fn(z, state, *self.activation_fn_args)\n",
    "        return z\n",
    "    \n",
    "    \n",
    "    @staticmethod\n",
    "    def initialize_state(rng, n_reservoir, init_fn=zeros):\n",
    "        return init_fn(rng, (1, n_reservoir))"
   ]
  },
  {
   "cell_type": "code",
   "execution_count": null,
   "id": "outdoor-delhi",
   "metadata": {},
   "outputs": [],
   "source": []
  },
  {
   "cell_type": "code",
   "execution_count": 15,
   "id": "elect-tutorial",
   "metadata": {},
   "outputs": [],
   "source": [
    "key = random.PRNGKey(42)\n",
    "X = random.normal(key, (1, 100))"
   ]
  },
  {
   "cell_type": "code",
   "execution_count": 16,
   "id": "reflected-place",
   "metadata": {},
   "outputs": [],
   "source": [
    "n_reservoir = 3700\n",
    "n_input=  X.shape[-1]\n",
    "\n",
    "model = StructuredTransform(n_reservoir, n_input)\n",
    "key = random.PRNGKey(42)\n",
    "state = model.initialize_state(key, n_reservoir)\n",
    "params = model.init(key, state, X)"
   ]
  },
  {
   "cell_type": "code",
   "execution_count": 17,
   "id": "broken-audience",
   "metadata": {},
   "outputs": [
    {
     "data": {
      "text/plain": [
       "FrozenDict({\n",
       "    params: {\n",
       "        bias: DeviceArray([ 0.15158992, -0.19948767,  0.09550976, ..., -0.04397626,\n",
       "                      0.01238424,  0.00847415], dtype=float32),\n",
       "        diagonal_layers_0: {\n",
       "            kernel: Buffer([[ 1,  1,  1, ..., -1, -1,  1]], dtype=int32),\n",
       "        },\n",
       "        hadamard: {\n",
       "            Dense_0: {\n",
       "                kernel: DeviceArray([[ 0.015625,  0.015625,  0.015625, ...,  0.015625,  0.015625,\n",
       "                               0.015625],\n",
       "                             [ 0.015625, -0.015625,  0.015625, ..., -0.015625,  0.015625,\n",
       "                              -0.015625],\n",
       "                             [ 0.015625,  0.015625, -0.015625, ...,  0.015625, -0.015625,\n",
       "                              -0.015625],\n",
       "                             ...,\n",
       "                             [ 0.015625, -0.015625,  0.015625, ..., -0.015625,  0.015625,\n",
       "                              -0.015625],\n",
       "                             [ 0.015625,  0.015625, -0.015625, ...,  0.015625, -0.015625,\n",
       "                              -0.015625],\n",
       "                             [ 0.015625, -0.015625, -0.015625, ..., -0.015625, -0.015625,\n",
       "                               0.015625]], dtype=float32),\n",
       "            },\n",
       "        },\n",
       "        diagonal_layers_1: {\n",
       "            kernel: Buffer([[-1, -1, -1, ..., -1,  1,  1]], dtype=int32),\n",
       "        },\n",
       "        diagonal_layers_2: {\n",
       "            kernel: Buffer([[-1,  1,  1, ...,  1,  1, -1]], dtype=int32),\n",
       "        },\n",
       "    },\n",
       "})"
      ]
     },
     "execution_count": 17,
     "metadata": {},
     "output_type": "execute_result"
    }
   ],
   "source": [
    "params"
   ]
  },
  {
   "cell_type": "code",
   "execution_count": 44,
   "id": "remarkable-albert",
   "metadata": {},
   "outputs": [
    {
     "data": {
      "text/plain": [
       "(1, 3700)"
      ]
     },
     "execution_count": 44,
     "metadata": {},
     "output_type": "execute_result"
    }
   ],
   "source": [
    "model.apply(params, state, X).shape"
   ]
  },
  {
   "cell_type": "code",
   "execution_count": null,
   "id": "verified-patrick",
   "metadata": {},
   "outputs": [],
   "source": []
  }
 ],
 "metadata": {
  "kernelspec": {
   "display_name": "Python 3",
   "language": "python",
   "name": "python3"
  },
  "language_info": {
   "codemirror_mode": {
    "name": "ipython",
    "version": 3
   },
   "file_extension": ".py",
   "mimetype": "text/x-python",
   "name": "python",
   "nbconvert_exporter": "python",
   "pygments_lexer": "ipython3",
   "version": "3.8.3"
  }
 },
 "nbformat": 4,
 "nbformat_minor": 5
}
